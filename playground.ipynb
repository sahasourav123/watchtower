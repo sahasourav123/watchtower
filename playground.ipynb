{
 "cells": [
  {
   "metadata": {
    "ExecuteTime": {
     "end_time": "2024-07-25T16:14:59.108232Z",
     "start_time": "2024-07-25T16:14:59.102250Z"
    }
   },
   "cell_type": "code",
   "source": [
    "# Rest APIs\n",
    "import requests\n",
    "import httpx\n",
    "from urllib.request import urlopen\n",
    "import time\n",
    "\n",
    "# disable ssl verification\n",
    "import ssl\n",
    "ssl._create_default_https_context = ssl._create_unverified_context\n"
   ],
   "id": "6ba07271cd872694",
   "outputs": [],
   "execution_count": 111
  },
  {
   "metadata": {},
   "cell_type": "markdown",
   "source": "### Check API Status",
   "id": "e6459f35b73668d1"
  },
  {
   "metadata": {
    "collapsed": true,
    "ExecuteTime": {
     "end_time": "2024-07-25T16:18:17.534715Z",
     "start_time": "2024-07-25T16:18:17.526067Z"
    }
   },
   "cell_type": "code",
   "source": [
    "url = \"http://127.0.0.1:8001\"\n",
    "response = requests.get(url)\n",
    "\n",
    "print(f\"Status: {response.status_code} | Elapsed: {response.elapsed.total_seconds()*1000} ms\")"
   ],
   "id": "initial_id",
   "outputs": [
    {
     "name": "stdout",
     "output_type": "stream",
     "text": [
      "Status: 200 | Elapsed: 4.274 ms\n"
     ]
    }
   ],
   "execution_count": 118
  },
  {
   "metadata": {},
   "cell_type": "markdown",
   "source": "### Measure Performance of http clients",
   "id": "534c7ddc027ae3fd"
  },
  {
   "metadata": {
    "ExecuteTime": {
     "end_time": "2024-07-25T16:18:31.208568Z",
     "start_time": "2024-07-25T16:18:31.159583Z"
    }
   },
   "cell_type": "code",
   "source": "%timeit -n 20 urlopen(url).getcode()",
   "id": "398f4f06d20d7978",
   "outputs": [
    {
     "name": "stdout",
     "output_type": "stream",
     "text": [
      "328 μs ± 128 μs per loop (mean ± std. dev. of 7 runs, 20 loops each)\n"
     ]
    }
   ],
   "execution_count": 121
  },
  {
   "metadata": {
    "ExecuteTime": {
     "end_time": "2024-07-25T16:08:34.491900Z",
     "start_time": "2024-07-25T16:08:34.412006Z"
    }
   },
   "cell_type": "code",
   "outputs": [
    {
     "name": "stdout",
     "output_type": "stream",
     "text": [
      "549 μs ± 200 μs per loop (mean ± std. dev. of 7 runs, 20 loops each)\n"
     ]
    }
   ],
   "execution_count": 102,
   "source": "%timeit -n 20 session.get(url).status_code",
   "id": "a8db4f148551dbef"
  },
  {
   "metadata": {
    "ExecuteTime": {
     "end_time": "2024-07-25T16:18:27.609368Z",
     "start_time": "2024-07-25T16:18:27.521985Z"
    }
   },
   "cell_type": "code",
   "outputs": [
    {
     "name": "stdout",
     "output_type": "stream",
     "text": [
      "603 μs ± 248 μs per loop (mean ± std. dev. of 7 runs, 20 loops each)\n"
     ]
    }
   ],
   "execution_count": 120,
   "source": "%timeit -n 20 requests.get(url).status_code",
   "id": "20ef985b44e9a975"
  },
  {
   "metadata": {
    "ExecuteTime": {
     "end_time": "2024-07-25T16:18:53.013679Z",
     "start_time": "2024-07-25T16:18:51.317751Z"
    }
   },
   "cell_type": "code",
   "outputs": [
    {
     "name": "stdout",
     "output_type": "stream",
     "text": [
      "11.8 ms ± 414 μs per loop (mean ± std. dev. of 7 runs, 20 loops each)\n"
     ]
    }
   ],
   "execution_count": 122,
   "source": "%timeit -n 20 httpx.get(url).status_code",
   "id": "62d9e348fbe8936a"
  },
  {
   "metadata": {
    "ExecuteTime": {
     "end_time": "2024-07-25T16:16:52.360325Z",
     "start_time": "2024-07-25T16:16:51.652583Z"
    }
   },
   "cell_type": "code",
   "source": [
    "url = 'https://api.github.com'\n",
    "t0 = time.time()\n",
    "response = urlopen(url)\n",
    "t1 = (time.time()-t0) * 1000\n",
    "\n",
    "print(f\"Status: {response.getcode()} | Elapsed: {t1} ms\")"
   ],
   "id": "9dd3277055ee452a",
   "outputs": [
    {
     "name": "stdout",
     "output_type": "stream",
     "text": [
      "Status: 200 | Elapsed: 703.178882598877 ms\n"
     ]
    }
   ],
   "execution_count": 114
  },
  {
   "metadata": {},
   "cell_type": "markdown",
   "source": "### Check Server Status",
   "id": "2c8f2787419ffb8a"
  },
  {
   "metadata": {
    "ExecuteTime": {
     "end_time": "2024-07-25T15:51:52.443128Z",
     "start_time": "2024-07-25T15:51:52.434710Z"
    }
   },
   "cell_type": "code",
   "source": [
    "import socket\n",
    "import time\n",
    "\n",
    "def check_server(host ,port, timeout=2):\n",
    "    sock = socket.socket(socket.AF_INET,socket.SOCK_STREAM) #presumably \n",
    "    sock.settimeout(timeout)\n",
    "    t0 = time.time()\n",
    "    try:\n",
    "       sock.connect((host,port))\n",
    "    except: \n",
    "        is_success = False\n",
    "    else: \n",
    "        sock.close()\n",
    "        is_success = True\n",
    "    \n",
    "    t1 = (time.time()-t0) * 1000\n",
    "    return is_success, round(t1, 2)"
   ],
   "id": "3d0d1715e4c64488",
   "outputs": [],
   "execution_count": 62
  },
  {
   "metadata": {
    "ExecuteTime": {
     "end_time": "2024-07-25T15:39:03.354629Z",
     "start_time": "2024-07-25T15:39:03.189170Z"
    }
   },
   "cell_type": "code",
   "source": [
    "# Ping Servers\n",
    "host = \"127.0.0.1\"\n",
    "port = 6379\n",
    "\n",
    "status_code, elapsed = check_server(host, port)\n",
    "print(f\"Status: {status_code} | Elapsed: {elapsed}\")\n"
   ],
   "id": "baac081ad32b7a0f",
   "outputs": [
    {
     "name": "stdout",
     "output_type": "stream",
     "text": [
      "Status: True | Elapsed: 162.34\n"
     ]
    }
   ],
   "execution_count": 61
  },
  {
   "metadata": {},
   "cell_type": "markdown",
   "source": "### Check Website Status",
   "id": "1290d31fa5d74fff"
  },
  {
   "metadata": {
    "ExecuteTime": {
     "end_time": "2024-07-25T16:19:57.977942Z",
     "start_time": "2024-07-25T16:19:57.747794Z"
    }
   },
   "cell_type": "code",
   "outputs": [
    {
     "name": "stdout",
     "output_type": "stream",
     "text": [
      "Status: True | Elapsed: 224.26\n"
     ]
    }
   ],
   "execution_count": 124,
   "source": [
    "# Websites\n",
    "host = \"google.com\"\n",
    "port = 443\n",
    "status_code, elapsed = check_server(host, port)\n",
    "print(f\"Status: {status_code} | Elapsed: {elapsed}\")"
   ],
   "id": "b278541e11e7763a"
  },
  {
   "metadata": {},
   "cell_type": "markdown",
   "source": "### Check Database Connection",
   "id": "a00558b218d0985b"
  },
  {
   "metadata": {
    "ExecuteTime": {
     "end_time": "2024-07-25T15:55:41.956689Z",
     "start_time": "2024-07-25T15:55:41.953314Z"
    }
   },
   "cell_type": "code",
   "source": [
    "# Database\n",
    "from sqlalchemy import create_engine\n",
    "\n",
    "def check_connection(conn_str):\n",
    "    engine = create_engine(conn_str)\n",
    "    t0 = time.time()\n",
    "    try:\n",
    "        conn = engine.connect()\n",
    "    except: \n",
    "        is_success = False\n",
    "    else: \n",
    "        conn.close()\n",
    "        is_success = True\n",
    "    \n",
    "    t1 = (time.time()-t0) * 1000\n",
    "    return is_success, round(t1, 2)"
   ],
   "id": "f1cb8c45c52ee0b8",
   "outputs": [],
   "execution_count": 65
  },
  {
   "metadata": {
    "ExecuteTime": {
     "end_time": "2024-07-25T15:56:06.712154Z",
     "start_time": "2024-07-25T15:56:04.795913Z"
    }
   },
   "cell_type": "code",
   "source": [
    "conn_str = 'postgresql://POSTGRES_USER:POSTGRES_PASS@DB_HOST:DB_PORT/'\n",
    "\n",
    "status_code, elapsed = check_connection(conn_str)\n",
    "print(f\"Status: {status_code} | Elapsed: {elapsed}\")"
   ],
   "id": "121dd20bce736545",
   "outputs": [
    {
     "name": "stdout",
     "output_type": "stream",
     "text": [
      "Status: True | Elapsed: 1911.72\n"
     ]
    }
   ],
   "execution_count": 69
  },
  {
   "metadata": {},
   "cell_type": "code",
   "outputs": [],
   "execution_count": null,
   "source": "",
   "id": "a8340508eb0a3fa1"
  }
 ],
 "metadata": {
  "kernelspec": {
   "display_name": "Python 3",
   "language": "python",
   "name": "python3"
  },
  "language_info": {
   "codemirror_mode": {
    "name": "ipython",
    "version": 2
   },
   "file_extension": ".py",
   "mimetype": "text/x-python",
   "name": "python",
   "nbconvert_exporter": "python",
   "pygments_lexer": "ipython2",
   "version": "2.7.6"
  }
 },
 "nbformat": 4,
 "nbformat_minor": 5
}
